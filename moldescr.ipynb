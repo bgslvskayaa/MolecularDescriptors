{
  "cells": [
    {
      "cell_type": "code",
      "execution_count": 1,
      "metadata": {
        "id": "rqUebQ3RKvVU",
        "colab": {
          "base_uri": "https://localhost:8080/"
        },
        "outputId": "e0648c38-c11c-455e-f4ba-fd4c855236e9"
      },
      "outputs": [
        {
          "output_type": "stream",
          "name": "stdout",
          "text": [
            "Collecting rdkit-pypi\n",
            "  Downloading rdkit_pypi-2022.9.5-cp310-cp310-manylinux_2_17_x86_64.manylinux2014_x86_64.whl (29.4 MB)\n",
            "\u001b[2K     \u001b[90m━━━━━━━━━━━━━━━━━━━━━━━━━━━━━━━━━━━━━━━━\u001b[0m \u001b[32m29.4/29.4 MB\u001b[0m \u001b[31m43.1 MB/s\u001b[0m eta \u001b[36m0:00:00\u001b[0m\n",
            "\u001b[?25hRequirement already satisfied: numpy in /usr/local/lib/python3.10/dist-packages (from rdkit-pypi) (1.23.5)\n",
            "Requirement already satisfied: Pillow in /usr/local/lib/python3.10/dist-packages (from rdkit-pypi) (9.4.0)\n",
            "Installing collected packages: rdkit-pypi\n",
            "Successfully installed rdkit-pypi-2022.9.5\n"
          ]
        }
      ],
      "source": [
        "!pip install rdkit-pypi"
      ]
    },
    {
      "cell_type": "code",
      "execution_count": 2,
      "metadata": {
        "id": "SVo5dB0XeQGA",
        "colab": {
          "base_uri": "https://localhost:8080/"
        },
        "outputId": "e6dbf627-9d8f-4cbf-d753-4cb89a4e9532"
      },
      "outputs": [
        {
          "output_type": "stream",
          "name": "stdout",
          "text": [
            "Mounted at /content/drive\n"
          ]
        }
      ],
      "source": [
        "from google.colab import drive\n",
        "drive.mount('/content/drive')"
      ]
    },
    {
      "cell_type": "code",
      "execution_count": 125,
      "metadata": {
        "id": "BzC1_jq6KX9Y",
        "colab": {
          "base_uri": "https://localhost:8080/"
        },
        "outputId": "f6092f9f-d163-44c1-8b7a-17b5439397f2"
      },
      "outputs": [
        {
          "output_type": "stream",
          "name": "stdout",
          "text": [
            "8154\n",
            "8153\n",
            "8153\n"
          ]
        }
      ],
      "source": [
        "# Загрузка датасета\n",
        "from rdkit import Chem\n",
        "mols = Chem.SDMolSupplier(\"/content/drive/MyDrive/bogoslavskaya prac2/Копия herg.sdf\") # На выходе array-like объект с молекулами в виде Mol объектов из rdkit\n",
        "\n",
        "# Проверим общий размер\n",
        "print(len(mols))\n",
        "\n",
        "# Попробуем прочитать желаемое свойство и убедимся, что оно задано для всех молекул\n",
        "# Используем конструкцию try/except, чтобы выбросить молекулы, для которых могут возникнуть ошибки\n",
        "activities = []\n",
        "clean_mols = []\n",
        "for mol in mols:\n",
        "    try:\n",
        "        activities.append(mol.GetProp(\"herg_activity\"))\n",
        "        clean_mols.append(mol)\n",
        "    except Exception:\n",
        "        continue\n",
        "print(len(activities))\n",
        "print(len(clean_mols))\n",
        "\n",
        "# дополнительная задача - оценим отношение активных и неактивных молекул в наборе"
      ]
    },
    {
      "cell_type": "code",
      "source": [
        "def get_descr_value(molecule, descr_func):\n",
        "    out_arr = np.zeros((1,), dtype=int)\n",
        "    descriptor = descr_func(molecule)\n",
        "    if isinstance(descriptor, rdkit.DataStructs.cDataStructs.ExplicitBitVect):\n",
        "        DataStructs.ConvertToNumpyArray(descriptor, out_arr)\n",
        "        return out_arr\n",
        "    return descriptor"
      ],
      "metadata": {
        "id": "LHFoJqvDZogb"
      },
      "execution_count": 126,
      "outputs": []
    },
    {
      "cell_type": "code",
      "execution_count": 127,
      "metadata": {
        "id": "-Z68CUVxeVFB"
      },
      "outputs": [],
      "source": [
        "# Попробуем сформировать массивы 'X' и 'y':\n",
        "# X - матрица, где каждой строчке будет соответствовать вектор из выбранных вами дескрипторов\n",
        "# y - столбец со значениями активностей\n",
        "# N.B. Убедитесь, что в тех случаях, когда не могут быть рассчитаны дескрипторы, вы не забыли исключить из дальнейшего рассмотрения соотвествующую активность\n",
        "# E.g. можно использовать следующий или похожий код:\n",
        "\n",
        "X = []\n",
        "y = []\n",
        "\n",
        "for i in range(len(clean_mols)):\n",
        "    try:\n",
        "        X.append(get_descr_value(clean_mols[i], AllChem.GetMACCSKeysFingerprint)) # обратим внимание, что можно конкатенировать вектора дескрипторов\n",
        "        y.append(activities[i])\n",
        "    except Exception:\n",
        "        continue"
      ]
    },
    {
      "cell_type": "code",
      "execution_count": 128,
      "metadata": {
        "id": "j5_yXs7XKX9a"
      },
      "outputs": [],
      "source": [
        "# Разобьем набор на тренировочную и тестовую часть\n",
        "from sklearn.model_selection import train_test_split\n",
        "# Дополнительная задача - используем метод разбиения, учитывающий несбалансированность набора данных\n",
        "X_train, X_test, y_train, y_test = train_test_split(X, y, test_size=0.2, random_state=42, stratify=y)"
      ]
    },
    {
      "cell_type": "code",
      "source": [
        "from sklearn.utils import class_weight\n",
        "class_weights = class_weight.compute_class_weight(class_weight = \"balanced\",\n",
        "                                        classes = np.unique(y_train),\n",
        "                                        y = y_train)\n",
        "class_weights = dict(zip(np.unique(y_train), class_weights))\n",
        "class_weights"
      ],
      "metadata": {
        "colab": {
          "base_uri": "https://localhost:8080/"
        },
        "id": "n9ZL9kCWC9hw",
        "outputId": "f8f511b0-c5d3-4256-e302-68f8cd12d74f"
      },
      "execution_count": 89,
      "outputs": [
        {
          "output_type": "execute_result",
          "data": {
            "text/plain": [
              "{'0': 0.680651221039449, '1': 1.8838821490467939}"
            ]
          },
          "metadata": {},
          "execution_count": 89
        }
      ]
    },
    {
      "cell_type": "code",
      "execution_count": 129,
      "metadata": {
        "id": "F_wtdtZneYKZ"
      },
      "outputs": [],
      "source": [
        "# Дополнительная задача - попробуем использовать scaler (например, приведенный ниже)\n",
        "# scaler тренируется на наборе X_train, а потом применяется к наборам X_train и X_test\n",
        "# результаты его использования запишем в те же переменные\n",
        "from sklearn.preprocessing import StandardScaler\n",
        "sc = StandardScaler()\n",
        "X_train = sc.fit_transform(X_train)\n",
        "X_test = sc.transform (X_test)"
      ]
    },
    {
      "cell_type": "code",
      "execution_count": 91,
      "metadata": {
        "id": "6ygtq92seaOs",
        "colab": {
          "base_uri": "https://localhost:8080/"
        },
        "outputId": "7e85fa82-4049-478e-9cc7-efac1e1fa6c7"
      },
      "outputs": [
        {
          "output_type": "stream",
          "name": "stdout",
          "text": [
            "Fitting 5 folds for each of 1000 candidates, totalling 5000 fits\n"
          ]
        },
        {
          "output_type": "execute_result",
          "data": {
            "text/plain": [
              "{'var_smoothing': 31.732296347349777}"
            ]
          },
          "metadata": {},
          "execution_count": 91
        }
      ],
      "source": [
        "\n",
        "# Натренируем модель на готовом тренировочном наборе данных, например:\n",
        "\n",
        "from sklearn.model_selection import GridSearchCV\n",
        "from sklearn.naive_bayes import GaussianNB\n",
        "gnb = GaussianNB()\n",
        "\n",
        "params = {'var_smoothing': np.logspace(0,100, num=1000)}\n",
        "gnb_GS = GridSearchCV(estimator=gnb,\n",
        "                 param_grid=params,\n",
        "                 cv=5,   # use any cross validation technique\n",
        "                 verbose=1,\n",
        "                 scoring='accuracy')\n",
        "gnb_GS.fit(X_train, y_train)\n",
        "\n",
        "gnb_GS.best_params_"
      ]
    },
    {
      "cell_type": "code",
      "source": [
        "from sklearn.model_selection import RandomizedSearchCV\n",
        "\n",
        "gnb_RS = RandomizedSearchCV(estimator=gnb,\n",
        "                            param_distributions = params,\n",
        "                            cv = 2,\n",
        "                            n_iter = 10,\n",
        "                            n_jobs=-1)\n",
        "gnb_RS.fit(X_train, y_train)\n",
        "\n",
        "gnb_RS.best_params_"
      ],
      "metadata": {
        "colab": {
          "base_uri": "https://localhost:8080/"
        },
        "id": "5gmyP_2Mgbbg",
        "outputId": "ade4f652-4cf2-419d-f444-b75d44241dec"
      },
      "execution_count": 92,
      "outputs": [
        {
          "output_type": "execute_result",
          "data": {
            "text/plain": [
              "{'var_smoothing': 9.571521538992012e+80}"
            ]
          },
          "metadata": {},
          "execution_count": 92
        }
      ]
    },
    {
      "cell_type": "code",
      "source": [
        "from sklearn.metrics import accuracy_score\n",
        "y_pred_GS = gnb_GS.predict(X_test)\n",
        "print(accuracy_score(y_test, y_pred_GS))\n",
        "\n",
        "y_pred_RS = gnb_RS.predict(X_test)\n",
        "print(accuracy_score(y_test, y_pred_RS))"
      ],
      "metadata": {
        "colab": {
          "base_uri": "https://localhost:8080/"
        },
        "id": "vPFO_cgmddbL",
        "outputId": "6dd46d8b-6499-420f-923e-b1b87863b065"
      },
      "execution_count": 93,
      "outputs": [
        {
          "output_type": "stream",
          "name": "stdout",
          "text": [
            "0.7572041692213366\n",
            "0.7345187001839363\n"
          ]
        }
      ]
    },
    {
      "cell_type": "code",
      "execution_count": 94,
      "metadata": {
        "id": "gxBB8-9Gec3D"
      },
      "outputs": [],
      "source": [
        "# Дополнительная задача - нарисуем на этом этапе тепловую карту для confusion_matrix и график receiver operating characteristic"
      ]
    },
    {
      "cell_type": "code",
      "source": [
        "from sklearn.metrics import confusion_matrix, ConfusionMatrixDisplay\n",
        "import matplotlib.pyplot as plt\n",
        "\n",
        "cm = confusion_matrix(y_test, y_pred_GS, labels=gnb_GS.classes_)\n",
        "disp = ConfusionMatrixDisplay(confusion_matrix=cm,\n",
        "                              display_labels=gnb_GS.classes_)\n",
        "disp.plot()\n",
        "plt.show()"
      ],
      "metadata": {
        "colab": {
          "base_uri": "https://localhost:8080/",
          "height": 448
        },
        "id": "uQx13oNshuSx",
        "outputId": "1d21283c-ec58-4829-8f8f-574573b5990f"
      },
      "execution_count": 95,
      "outputs": [
        {
          "output_type": "display_data",
          "data": {
            "text/plain": [
              "<Figure size 640x480 with 2 Axes>"
            ],
            "image/png": "[encoded data removed]"
          },
          "metadata": {}
        }
      ]
    },
    {
      "cell_type": "code",
      "source": [
        "\n",
        "rs = confusion_matrix(y_test, y_pred_RS, labels=gnb_RS.classes_)\n",
        "disp_rs = ConfusionMatrixDisplay(confusion_matrix=rs,\n",
        "                              display_labels=gnb_RS.classes_)\n",
        "disp.plot()\n",
        "plt.show()"
      ],
      "metadata": {
        "colab": {
          "base_uri": "https://localhost:8080/",
          "height": 448
        },
        "id": "BaTQ52j0iQDG",
        "outputId": "4bb800ba-7d88-4f65-d657-572825cc9b68"
      },
      "execution_count": 96,
      "outputs": [
        {
          "output_type": "display_data",
          "data": {
            "text/plain": [
              "<Figure size 640x480 with 2 Axes>"
            ],
            "image/png": "[encoded data removed]"
          },
          "metadata": {}
        }
      ]
    },
    {
      "cell_type": "code",
      "execution_count": 97,
      "metadata": {
        "id": "mcIt9ddaeeYx"
      },
      "outputs": [],
      "source": [
        "# Повторим процесс, варьируя дескрипторы, методы обучения и гиперпараметры методов для максмимизации качества модели\n",
        "# Сколько дескрипторов и параметров методов достаточно рассмотреть?"
      ]
    },
    {
      "cell_type": "code",
      "source": [
        "import sklearn\n",
        "from sklearn.neighbors import KNeighborsClassifier\n",
        "import warnings\n",
        "from sklearn.model_selection import cross_val_score\n",
        "\n",
        "neigh = KNeighborsClassifier()\n",
        "score = cross_val_score(neigh, X, y, cv=5)"
      ],
      "metadata": {
        "id": "d9g_tptUkKn3"
      },
      "execution_count": 130,
      "outputs": []
    },
    {
      "cell_type": "code",
      "source": [
        "import tqdm\n",
        "from tqdm.auto import tqdm as tqdm\n",
        "\n",
        "k_candidates = [i for i in range(1, 50)]\n",
        "scores = []\n",
        "\n",
        "for k in tqdm(k_candidates):\n",
        "  neigh = KNeighborsClassifier(n_neighbors=k)\n",
        "  score = cross_val_score(neigh, X_train, y_train, cv=5)\n",
        "  scores.append(np.mean(score))"
      ],
      "metadata": {
        "colab": {
          "base_uri": "https://localhost:8080/",
          "height": 49,
          "referenced_widgets": [
            "1aef821088724125b3eaf02282b967c9",
            "83cadcca1f77497582af72d025637741",
            "7349508f5b0646db861b137c2b9f72bf",
            "45d2bb21b318459eb3e1797fb4473a7b",
            "3abbecc3eab44885941272a7d59d6fb5",
            "b0b6f20a37644f07af3c677079b40ba7",
            "eea730dff6de4deba5ff53adc5ad27b6",
            "fdfa05d4b7644e59af0952a1bf288ab6",
            "cd3a935d7528482c88127e83a6eb8d51",
            "4439b4eda1d44ce1925a5966fec008c8",
            "4027a53ebf424f9ab6154b38f798c748"
          ]
        },
        "id": "ScZb6guckw2z",
        "outputId": "1e24f87d-b9ad-46c3-bfd7-b4f2dd1ee963"
      },
      "execution_count": 131,
      "outputs": [
        {
          "output_type": "display_data",
          "data": {
            "text/plain": [
              "  0%|          | 0/49 [00:00<?, ?it/s]"
            ],
            "application/vnd.jupyter.widget-view+json": {
              "version_major": 2,
              "version_minor": 0,
              "model_id": "1aef821088724125b3eaf02282b967c9"
            }
          },
          "metadata": {}
        }
      ]
    },
    {
      "cell_type": "code",
      "source": [
        "import matplotlib.pyplot as plt\n",
        "\n",
        "plt.figure(figsize=(25, 10))\n",
        "plt.plot(np.arange(1, 50), scores)"
      ],
      "metadata": {
        "colab": {
          "base_uri": "https://localhost:8080/",
          "height": 594
        },
        "id": "EJC1VMnMlbpv",
        "outputId": "10b8f12c-5426-489c-da2e-124f3b2b1173"
      },
      "execution_count": 132,
      "outputs": [
        {
          "output_type": "execute_result",
          "data": {
            "text/plain": [
              "[<matplotlib.lines.Line2D at 0x7a00bcbccc10>]"
            ]
          },
          "metadata": {},
          "execution_count": 132
        },
        {
          "output_type": "display_data",
          "data": {
            "text/plain": [
              "<Figure size 2500x1000 with 1 Axes>"
            ],
            "image/png": "[encoded data removed]"
          },
          "metadata": {}
        }
      ]
    },
    {
      "cell_type": "code",
      "source": [
        "k_best = np.argmax(scores) + 1\n",
        "k_best"
      ],
      "metadata": {
        "id": "sRVVh3Lun84w",
        "colab": {
          "base_uri": "https://localhost:8080/"
        },
        "outputId": "c753a144-d024-49e2-9042-aca96975ec30"
      },
      "execution_count": 133,
      "outputs": [
        {
          "output_type": "execute_result",
          "data": {
            "text/plain": [
              "4"
            ]
          },
          "metadata": {},
          "execution_count": 133
        }
      ]
    },
    {
      "cell_type": "code",
      "source": [
        "neigh_f = KNeighborsClassifier(n_neighbors=4, metric='cosine')\n",
        "neigh_f.fit(X_train, y_train)\n",
        "y_pred_neigh = neigh_f.predict(X_test)"
      ],
      "metadata": {
        "id": "yPAQ_kMkn819"
      },
      "execution_count": 134,
      "outputs": []
    },
    {
      "cell_type": "code",
      "source": [
        "# Рассчитаем максимальное количество метрик на готовом тестовом наборе данных, например:\n",
        "print(accuracy_score(y_test, y_pred_neigh))"
      ],
      "metadata": {
        "colab": {
          "base_uri": "https://localhost:8080/"
        },
        "id": "PUYnQPphmT98",
        "outputId": "0f3f8bbc-d444-4bbe-9e9e-6c575eecbd58"
      },
      "execution_count": 135,
      "outputs": [
        {
          "output_type": "stream",
          "name": "stdout",
          "text": [
            "0.8749233599019006\n"
          ]
        }
      ]
    }
  ],
  "metadata": {
    "colab": {
      "provenance": []
    },
    "kernelspec": {
      "display_name": "Python 3",
      "language": "python",
      "name": "python3"
    },
    "language_info": {
      "codemirror_mode": {
        "name": "ipython",
        "version": 2
      },
      "file_extension": ".py",
      "mimetype": "text/x-python",
      "name": "python",
      "nbconvert_exporter": "python",
      "pygments_lexer": "ipython2",
      "version": "2.7.6"
    },
    "widgets": {
      "application/vnd.jupyter.widget-state+json": {
        "1aef821088724125b3eaf02282b967c9": {
          "model_module": "@jupyter-widgets/controls",
          "model_name": "HBoxModel",
          "model_module_version": "1.5.0",
          "state": {
            "_dom_classes": [],
            "_model_module": "@jupyter-widgets/controls",
            "_model_module_version": "1.5.0",
            "_model_name": "HBoxModel",
            "_view_count": null,
            "_view_module": "@jupyter-widgets/controls",
            "_view_module_version": "1.5.0",
            "_view_name": "HBoxView",
            "box_style": "",
            "children": [
              "IPY_MODEL_83cadcca1f77497582af72d025637741",
              "IPY_MODEL_7349508f5b0646db861b137c2b9f72bf",
              "IPY_MODEL_45d2bb21b318459eb3e1797fb4473a7b"
            ],
            "layout": "IPY_MODEL_3abbecc3eab44885941272a7d59d6fb5"
          }
        },
        "83cadcca1f77497582af72d025637741": {
          "model_module": "@jupyter-widgets/controls",
          "model_name": "HTMLModel",
          "model_module_version": "1.5.0",
          "state": {
            "_dom_classes": [],
            "_model_module": "@jupyter-widgets/controls",
            "_model_module_version": "1.5.0",
            "_model_name": "HTMLModel",
            "_view_count": null,
            "_view_module": "@jupyter-widgets/controls",
            "_view_module_version": "1.5.0",
            "_view_name": "HTMLView",
            "description": "",
            "description_tooltip": null,
            "layout": "IPY_MODEL_b0b6f20a37644f07af3c677079b40ba7",
            "placeholder": "​",
            "style": "IPY_MODEL_eea730dff6de4deba5ff53adc5ad27b6",
            "value": "100%"
          }
        },
        "7349508f5b0646db861b137c2b9f72bf": {
          "model_module": "@jupyter-widgets/controls",
          "model_name": "FloatProgressModel",
          "model_module_version": "1.5.0",
          "state": {
            "_dom_classes": [],
            "_model_module": "@jupyter-widgets/controls",
            "_model_module_version": "1.5.0",
            "_model_name": "FloatProgressModel",
            "_view_count": null,
            "_view_module": "@jupyter-widgets/controls",
            "_view_module_version": "1.5.0",
            "_view_name": "ProgressView",
            "bar_style": "success",
            "description": "",
            "description_tooltip": null,
            "layout": "IPY_MODEL_fdfa05d4b7644e59af0952a1bf288ab6",
            "max": 49,
            "min": 0,
            "orientation": "horizontal",
            "style": "IPY_MODEL_cd3a935d7528482c88127e83a6eb8d51",
            "value": 49
          }
        },
        "45d2bb21b318459eb3e1797fb4473a7b": {
          "model_module": "@jupyter-widgets/controls",
          "model_name": "HTMLModel",
          "model_module_version": "1.5.0",
          "state": {
            "_dom_classes": [],
            "_model_module": "@jupyter-widgets/controls",
            "_model_module_version": "1.5.0",
            "_model_name": "HTMLModel",
            "_view_count": null,
            "_view_module": "@jupyter-widgets/controls",
            "_view_module_version": "1.5.0",
            "_view_name": "HTMLView",
            "description": "",
            "description_tooltip": null,
            "layout": "IPY_MODEL_4439b4eda1d44ce1925a5966fec008c8",
            "placeholder": "​",
            "style": "IPY_MODEL_4027a53ebf424f9ab6154b38f798c748",
            "value": " 49/49 [00:41&lt;00:00,  1.27s/it]"
          }
        },
        "3abbecc3eab44885941272a7d59d6fb5": {
          "model_module": "@jupyter-widgets/base",
          "model_name": "LayoutModel",
          "model_module_version": "1.2.0",
          "state": {
            "_model_module": "@jupyter-widgets/base",
            "_model_module_version": "1.2.0",
            "_model_name": "LayoutModel",
            "_view_count": null,
            "_view_module": "@jupyter-widgets/base",
            "_view_module_version": "1.2.0",
            "_view_name": "LayoutView",
            "align_content": null,
            "align_items": null,
            "align_self": null,
            "border": null,
            "bottom": null,
            "display": null,
            "flex": null,
            "flex_flow": null,
            "grid_area": null,
            "grid_auto_columns": null,
            "grid_auto_flow": null,
            "grid_auto_rows": null,
            "grid_column": null,
            "grid_gap": null,
            "grid_row": null,
            "grid_template_areas": null,
            "grid_template_columns": null,
            "grid_template_rows": null,
            "height": null,
            "justify_content": null,
            "justify_items": null,
            "left": null,
            "margin": null,
            "max_height": null,
            "max_width": null,
            "min_height": null,
            "min_width": null,
            "object_fit": null,
            "object_position": null,
            "order": null,
            "overflow": null,
            "overflow_x": null,
            "overflow_y": null,
            "padding": null,
            "right": null,
            "top": null,
            "visibility": null,
            "width": null
          }
        },
        "b0b6f20a37644f07af3c677079b40ba7": {
          "model_module": "@jupyter-widgets/base",
          "model_name": "LayoutModel",
          "model_module_version": "1.2.0",
          "state": {
            "_model_module": "@jupyter-widgets/base",
            "_model_module_version": "1.2.0",
            "_model_name": "LayoutModel",
            "_view_count": null,
            "_view_module": "@jupyter-widgets/base",
            "_view_module_version": "1.2.0",
            "_view_name": "LayoutView",
            "align_content": null,
            "align_items": null,
            "align_self": null,
            "border": null,
            "bottom": null,
            "display": null,
            "flex": null,
            "flex_flow": null,
            "grid_area": null,
            "grid_auto_columns": null,
            "grid_auto_flow": null,
            "grid_auto_rows": null,
            "grid_column": null,
            "grid_gap": null,
            "grid_row": null,
            "grid_template_areas": null,
            "grid_template_columns": null,
            "grid_template_rows": null,
            "height": null,
            "justify_content": null,
            "justify_items": null,
            "left": null,
            "margin": null,
            "max_height": null,
            "max_width": null,
            "min_height": null,
            "min_width": null,
            "object_fit": null,
            "object_position": null,
            "order": null,
            "overflow": null,
            "overflow_x": null,
            "overflow_y": null,
            "padding": null,
            "right": null,
            "top": null,
            "visibility": null,
            "width": null
          }
        },
        "eea730dff6de4deba5ff53adc5ad27b6": {
          "model_module": "@jupyter-widgets/controls",
          "model_name": "DescriptionStyleModel",
          "model_module_version": "1.5.0",
          "state": {
            "_model_module": "@jupyter-widgets/controls",
            "_model_module_version": "1.5.0",
            "_model_name": "DescriptionStyleModel",
            "_view_count": null,
            "_view_module": "@jupyter-widgets/base",
            "_view_module_version": "1.2.0",
            "_view_name": "StyleView",
            "description_width": ""
          }
        },
        "fdfa05d4b7644e59af0952a1bf288ab6": {
          "model_module": "@jupyter-widgets/base",
          "model_name": "LayoutModel",
          "model_module_version": "1.2.0",
          "state": {
            "_model_module": "@jupyter-widgets/base",
            "_model_module_version": "1.2.0",
            "_model_name": "LayoutModel",
            "_view_count": null,
            "_view_module": "@jupyter-widgets/base",
            "_view_module_version": "1.2.0",
            "_view_name": "LayoutView",
            "align_content": null,
            "align_items": null,
            "align_self": null,
            "border": null,
            "bottom": null,
            "display": null,
            "flex": null,
            "flex_flow": null,
            "grid_area": null,
            "grid_auto_columns": null,
            "grid_auto_flow": null,
            "grid_auto_rows": null,
            "grid_column": null,
            "grid_gap": null,
            "grid_row": null,
            "grid_template_areas": null,
            "grid_template_columns": null,
            "grid_template_rows": null,
            "height": null,
            "justify_content": null,
            "justify_items": null,
            "left": null,
            "margin": null,
            "max_height": null,
            "max_width": null,
            "min_height": null,
            "min_width": null,
            "object_fit": null,
            "object_position": null,
            "order": null,
            "overflow": null,
            "overflow_x": null,
            "overflow_y": null,
            "padding": null,
            "right": null,
            "top": null,
            "visibility": null,
            "width": null
          }
        },
        "cd3a935d7528482c88127e83a6eb8d51": {
          "model_module": "@jupyter-widgets/controls",
          "model_name": "ProgressStyleModel",
          "model_module_version": "1.5.0",
          "state": {
            "_model_module": "@jupyter-widgets/controls",
            "_model_module_version": "1.5.0",
            "_model_name": "ProgressStyleModel",
            "_view_count": null,
            "_view_module": "@jupyter-widgets/base",
            "_view_module_version": "1.2.0",
            "_view_name": "StyleView",
            "bar_color": null,
            "description_width": ""
          }
        },
        "4439b4eda1d44ce1925a5966fec008c8": {
          "model_module": "@jupyter-widgets/base",
          "model_name": "LayoutModel",
          "model_module_version": "1.2.0",
          "state": {
            "_model_module": "@jupyter-widgets/base",
            "_model_module_version": "1.2.0",
            "_model_name": "LayoutModel",
            "_view_count": null,
            "_view_module": "@jupyter-widgets/base",
            "_view_module_version": "1.2.0",
            "_view_name": "LayoutView",
            "align_content": null,
            "align_items": null,
            "align_self": null,
            "border": null,
            "bottom": null,
            "display": null,
            "flex": null,
            "flex_flow": null,
            "grid_area": null,
            "grid_auto_columns": null,
            "grid_auto_flow": null,
            "grid_auto_rows": null,
            "grid_column": null,
            "grid_gap": null,
            "grid_row": null,
            "grid_template_areas": null,
            "grid_template_columns": null,
            "grid_template_rows": null,
            "height": null,
            "justify_content": null,
            "justify_items": null,
            "left": null,
            "margin": null,
            "max_height": null,
            "max_width": null,
            "min_height": null,
            "min_width": null,
            "object_fit": null,
            "object_position": null,
            "order": null,
            "overflow": null,
            "overflow_x": null,
            "overflow_y": null,
            "padding": null,
            "right": null,
            "top": null,
            "visibility": null,
            "width": null
          }
        },
        "4027a53ebf424f9ab6154b38f798c748": {
          "model_module": "@jupyter-widgets/controls",
          "model_name": "DescriptionStyleModel",
          "model_module_version": "1.5.0",
          "state": {
            "_model_module": "@jupyter-widgets/controls",
            "_model_module_version": "1.5.0",
            "_model_name": "DescriptionStyleModel",
            "_view_count": null,
            "_view_module": "@jupyter-widgets/base",
            "_view_module_version": "1.2.0",
            "_view_name": "StyleView",
            "description_width": ""
          }
        }
      }
    }
  },
  "nbformat": 4,
  "nbformat_minor": 0
}